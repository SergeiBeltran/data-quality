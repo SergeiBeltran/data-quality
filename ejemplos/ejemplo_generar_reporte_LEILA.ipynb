{
 "cells": [
  {
   "cell_type": "markdown",
   "id": "48401b1d",
   "metadata": {},
   "source": [
    "\n",
    "## Generar reporte automático\n",
    "\n",
    "La función `generar_reporte` permite crear un archivo HTML con resultados y métricas de calidad sobre conjunto de datos estructurados."
   ]
  },
  {
   "cell_type": "code",
   "execution_count": 1,
   "id": "9d16588a",
   "metadata": {},
   "outputs": [],
   "source": [
    "# testing\n",
    "import sys\n",
    "\n",
    "sys.path.insert(0, \"leila/leila\")\n",
    "\n",
    "from reporte import generar_reporte\n",
    "from calidad_datos import CalidadDatos"
   ]
  },
  {
   "cell_type": "code",
   "execution_count": 2,
   "id": "196421bb",
   "metadata": {},
   "outputs": [],
   "source": [
    "# Importamos las dependencias necesarias\n",
    "import pandas as pd\n",
    "\n",
    "# Para genererar un reporte interactivo con la información de un conjunto de datos determinado\n",
    "# from leila.reporte import generar_reporte"
   ]
  },
  {
   "cell_type": "markdown",
   "id": "f5b1767f",
   "metadata": {},
   "source": [
    "La función `generar_reporte` tiene 4 argumentos principales.\n",
    "* **datos** - corresponde a los datos a ser analizados. Este parámetro acepta:\n",
    "    * (str) api_id o Identificación de la base de datos asociado con la API de Socrata de un conjunto de datos del portal de Datos Abiertos.\n",
    "    * Un objeto de tipo `leila.CalidadDatos`\n",
    "    * (str) Ruta o path a archivos tipo `.xlsx` o `.csv` (recomendado)\n",
    "    * un `DataFrame` de pandas\n",
    "    \n",
    "\n",
    "* **titulo** – (str) valor por defecto: “Reporte perfilamiento”. Título del reporte a generar.\n",
    "* **archivo** – (str) valor por defecto: “perfilamiento.html”. Ruta donde se desea guardar el reporte en formato HMTL.\n",
    "* **secciones** - (dic) Diccionario indicando cuales secciones incluir en el reporte.\n",
    "\n",
    "Para mayor información puede consultar la [documentación de la función](https://ucd-dnp.github.io/leila/versiones/master/funciones/reporte.html)"
   ]
  },
  {
   "cell_type": "code",
   "execution_count": 7,
   "id": "654d0e35",
   "metadata": {},
   "outputs": [
    {
     "name": "stdout",
     "output_type": "stream",
     "text": [
      "--------------------------------------------------------------------------------------------\n",
      "No hay columnas duplicadas\n",
      "--------------------------------------------------------------------------------------------\n",
      "Se ha generado el reporte \"reporte_calidad__COVID.html\"\n",
      "04:18:54 PM (00 min 5 seg)\n",
      "--------------------------------------------------------------------------------------------\n"
     ]
    }
   ],
   "source": [
    "# En este ejemplo generaremos el reporte a partir de un api_id, este caso corresponde a los datos reportados \n",
    "# en el Portal de Datos Abiertos de COVID en Colombia.\n",
    "\n",
    "# Teniendo en cuenta que se trata de un conjunto de datos con muchos registros, usamos el argumento limite_filas para\n",
    "# limitar la descarga de información a solo los primeros 500 registros.\n",
    "\n",
    "# El título del reporte será Reporte registros COVID - Colombia\n",
    "# El reporte será guardado con el nombre reporte_calidad__COVID.html\n",
    "\n",
    "generar_reporte(datos=\"gt2j-8ykr\", \n",
    "                titulo='Reporte registros COVID - Colombia', \n",
    "                archivo='reporte_calidad__COVID.html',\n",
    "                limite_filas=500)"
   ]
  },
  {
   "cell_type": "code",
   "execution_count": null,
   "id": "f2e0fbcc",
   "metadata": {},
   "outputs": [],
   "source": [
    "# También se puede generar el reporte a partir de un dataframe o indicando la ruta de un archivo. \n",
    "# Solo se requiere cambiar el parámetro datos.\n",
    "\n",
    "generar_reporte(datos=\"dataset ejemplos.csv\", \n",
    "                titulo='Reporte de prueba archivo CSV', \n",
    "                archivo='reporte_calidad__CSV.html')"
   ]
  },
  {
   "cell_type": "code",
   "execution_count": 13,
   "id": "5ca098df",
   "metadata": {},
   "outputs": [
    {
     "name": "stdout",
     "output_type": "stream",
     "text": [
      "--------------------------------------------------------------------------------------------\n",
      "El conjunto de datos no tiene columnas numéricas\n",
      "--------------------------------------------------------------------------------------------\n",
      "Se ha generado el reporte \"reporte_visas.html\"\n",
      "04:31:37 PM (00 min 0 seg)\n",
      "--------------------------------------------------------------------------------------------\n"
     ]
    }
   ],
   "source": [
    "# Si desea excluir una sección del reporte lo puede hacer mediante el parámetro secciones.\n",
    "# En este ejemplo se excluyo del reporte la sección \"correlaciones\", y de la sección \"Estadísticas específicas\"\n",
    "# solo se incluyeron las pestañas \"Tipo de las columnas\" y \"Frecuencia de categorías\"\n",
    "\n",
    "generar_reporte(datos=\"bign-27m7\", \n",
    "                titulo=\"Reporte visas\", \n",
    "                archivo='reporte_visas.html',\n",
    "                secciones={'generales':True, 'muestra_datos': True, 'correlaciones': False,\n",
    "                           'especificas': ['tipo', 'frecuencias']})"
   ]
  },
  {
   "cell_type": "code",
   "execution_count": null,
   "id": "eb26e407",
   "metadata": {},
   "outputs": [],
   "source": []
  }
 ],
 "metadata": {
  "kernelspec": {
   "display_name": "Python 3 (ipykernel)",
   "language": "python",
   "name": "python3"
  },
  "language_info": {
   "codemirror_mode": {
    "name": "ipython",
    "version": 3
   },
   "file_extension": ".py",
   "mimetype": "text/x-python",
   "name": "python",
   "nbconvert_exporter": "python",
   "pygments_lexer": "ipython3",
   "version": "3.7.5"
  }
 },
 "nbformat": 4,
 "nbformat_minor": 5
}
